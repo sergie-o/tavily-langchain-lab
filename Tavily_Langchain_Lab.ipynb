{
 "cells": [
  {
   "cell_type": "markdown",
   "id": "41222d77",
   "metadata": {},
   "source": [
    "# LAB: Practice with Tavily + LangChain Agents\n",
    "\n",
    "### Objective\n",
    "Reinforce your understanding of LangChain agents integrated with Tavily for real-time web search by solving two open-ended tasks. You'll:\n",
    "- Load and configure a LangChain agent with Tavily\n",
    "- Build effective prompts\n",
    "- Generate structured, useful outputs from real-time data"
   ]
  },
  {
   "cell_type": "markdown",
   "id": "baadf072",
   "metadata": {},
   "source": [
    "### Setup"
   ]
  },
  {
   "cell_type": "code",
   "execution_count": 3,
   "id": "cafe37d8",
   "metadata": {},
   "outputs": [
    {
     "name": "stderr",
     "output_type": "stream",
     "text": [
      "/opt/anaconda3/envs/llm-env/lib/python3.11/site-packages/requests/__init__.py:86: RequestsDependencyWarning: Unable to find acceptable character detection dependency (chardet or charset_normalizer).\n",
      "  warnings.warn(\n"
     ]
    }
   ],
   "source": [
    "import os\n",
    "from langchain.agents import initialize_agent, AgentType, Tool\n",
    "from langchain.chat_models import ChatOpenAI\n",
    "from langchain.tools.tavily_search import TavilySearchResults\n",
    "import tiktoken\n",
    "from IPython.display import Markdown, display\n",
    "from  dotenv import load_dotenv\n",
    "import warnings\n",
    "warnings.filterwarnings('ignore')\n",
    "from langchain.tools.tavily_search import TavilySearchResults\n",
    "\n",
    "load_dotenv()\n",
    "tavily_search = TavilySearchResults()\n",
    "\n",
    "# LLM + Encoding\n",
    "llm = ChatOpenAI(model=\"gpt-4\", temperature=0)\n",
    "encoding = tiktoken.encoding_for_model(\"gpt-4\")\n",
    "\n",
    "# Safe Tavily wrapper\n",
    "def safe_search(query: str) -> str:\n",
    "    result = tavily_search.run(query)\n",
    "\n",
    "    # Ensure result is a string — Tavily returns dict with 'snippets' sometimes\n",
    "    if isinstance(result, dict):\n",
    "        result_text = result.get(\"content\", \"\") or str(result)\n",
    "    else:\n",
    "        result_text = str(result)\n",
    "\n",
    "    tokens = encoding.encode(result_text)\n",
    "    trimmed = encoding.decode(tokens[:3500])  # leave room for GPT-4 response\n",
    "    return trimmed\n",
    "\n",
    "\n",
    "# LangChain tool\n",
    "tools = [Tool(name=\"TavilySafeSearch\", func=safe_search, description=\"Web search tool\")]\n",
    "agent = initialize_agent(tools=tools, llm=llm, agent=AgentType.ZERO_SHOT_REACT_DESCRIPTION, verbose=True)"
   ]
  },
  {
   "cell_type": "markdown",
   "id": "5089593a",
   "metadata": {},
   "source": [
    "### Exercise 1: AI in Healthcare\n",
    "\n",
    "Goal: Investigate and summarize the latest advancements in generative AI applied to healthcare in 2025.\n",
    "\n",
    "- Design a prompt that asks the agent to retrieve the most recent updates.\n",
    "- Ensure the agent outputs a structured response in Markdown."
   ]
  },
  {
   "cell_type": "code",
   "execution_count": 4,
   "id": "f882ac3f",
   "metadata": {},
   "outputs": [
    {
     "name": "stdout",
     "output_type": "stream",
     "text": [
      "\n",
      "\n",
      "\u001b[1m> Entering new AgentExecutor chain...\u001b[0m\n",
      "\u001b[32;1m\u001b[1;3mI need to search for the latest developments in generative AI models applied in healthcare in 2025. I will use the TavilySafeSearch tool to find this information.\n",
      "Action: TavilySafeSearch\n",
      "Action Input: Latest developments in generative AI models in healthcare 2025\u001b[0m\n",
      "Observation: \u001b[36;1m\u001b[1;3m[{'title': 'An Overview of 2025 AI Trends in Healthcare - HealthTech Magazine', 'url': 'https://healthtechmagazine.net/article/2025/01/overview-2025-ai-trends-healthcare', 'content': 'Some healthcare organizations are beginning to experiment with retrieval-augmented generation. RAG is an AI framework that combines traditional vector database capabilities with LLMs. In other words, users get the benefits of a generative AI-powered chatbot that can access an organization’s more accurate and recent data.\\n\\nRAG allows the organization’s chatbot to produce better answers for staff in Q&A applications. This reduces some of the pitfalls of using generative AI tools. [...] It’s been more than two years since ChatGPT was first released, and during that time artificial intelligence has become synonymous with generative AI. When most people discuss AI, they’re usually referring to large language models (LLMs) and related chatbots. That’s how big of an impact generative AI had across industries — as well as everyday people around the world — and healthcare is no exception. [...] For many healthcare organizations, AI is still a buzz phrase, but one that is attractive due to its promise to improve clinical and administrative workflows. In 2024, early adopters showcased its possibilities. This year, we expect to see more organizations dipping their toes into the generative AI space. While more healthcare leaders are considering and preparing for AI implementation, they are also pushing vendors to show the actual value their solutions provide.', 'score': 0.8051581}, {'title': 'AI in Pharma and Biotech: Market Trends 2025 and Beyond', 'url': 'https://www.coherentsolutions.com/insights/artificial-intelligence-in-pharmaceuticals-and-biotechnology-current-trends-and-innovations', 'content': 'These generative AI models are also making it easier to design drugs by predicting how potential treatments will interact with protein targets. This is helping researchers refine drug development processes, particularly for complex diseases like Alzheimer’s and cancer. [...] Generative AI is making huge strides in molecular design, especially with models like AlphaFold and the newer Genie. These advancements are reshaping how we approach protein folding and drug development, opening doors to faster, more accurate solutions. [...] The impact of these AI platforms is profound. They can reduce drug discovery costs by up to 40% and slash development timelines from five years to as little as 12-18 months. By streamlining the screening process and quickly identifying promising candidates, AI is helping biopharma companies bring new therapies to market faster and more efficiently.\\n\\n### New Advancements of Generative AI in Molecular Design', 'score': 0.79484755}, {'title': 'AI Agents in Healthcare: Top Examples & Use Cases 2025 - Upskillist', 'url': 'https://www.upskillist.com/blog/top-ai-agents-use-case-for-healthcare-in-2025/', 'content': '\"By allowing AI to take over many of the repetitive and rote administrative tasks that burden physicians, the physician can perform more cognitive decision-making and focus more on human connections and time spent with patients.\"\\n\\nSome of the latest developments in AI for healthcare include:\\n\\nThese innovations are transforming healthcare delivery while allowing physicians to focus more on patient care. Dr. Thomas Fuchs from Mount Sinai\\'s Icahn School of Medicine put it succinctly: [...] \"Orchestration is the invisible conductor of healthcare AI, harmonizing complex workflows, integrating disparate systems and ensuring that generative AI technologies work in concert to deliver seamless, intelligent patient care.\"  \\n– Mike Thorpe, Senior Solutions Consultant, SS&C Blue Prism [...] ### New AI Developments\\n\\nAI advancements are shaping the future of patient care. Dennis Chornenky, Chief AI Adviser at UC Davis Health, highlighted emerging trends:', 'score': 0.7711725}, {'title': '2025 AI Trends in Healthcare & Life Sciences | Key Insights', 'url': 'https://blog.rsisecurity.com/trends-in-healthcare-life-sciences/', 'content': '## Top AI Workloads and Use Cases by Sector\\n\\nThe report identifies three primary workloads across the healthcare ecosystem:\\n\\nEach industry segment, however, has its own leading use cases:\\n\\n## Generative AI Is Making Immediate Impact\\n\\nGenerative AI isn’t just a buzzword, it’s driving meaningful transformation. 71% of digital healthcare respondents, 69% of pharma and biotech firms, and 60% of medtech organizations are actively using generative AI.\\n\\nTop generative AI use cases include: [...] These technologies are not only easing administrative burdens but also accelerating innovation in treatment development.\\n\\nGenerative AI NVIDIA\\n\\nGenerative AI NVIDIA\\n\\n## AI’s Value Drivers: R&D, Precision, and Patient Outcomes\\n\\nSurvey respondents identified their top strategic goals for AI:\\n\\nPharma and biotech companies were the most R&D-focused (54%), while payer/provider segments prioritized clinician-patient interactions and operational efficiency.\\n\\n## Challenges Vary by Organization Size [...] Artificial intelligence is transforming healthcare and life sciences more rapidly than nearly any other sector. From diagnostic imaging to drug discovery, AI is not just a promise, it’s already delivering measurable impact. According to NVIDIA’s State of AI in Healthcare and Life Sciences: 2025 Trends report, the industry is charging ahead in AI adoption, with early success stories driving deeper investment and broader use cases across the ecosystem.', 'score': 0.7016523}, {'title': '2025 Watch List: Artificial Intelligence in Health Care - NCBI Bookshelf', 'url': 'https://www.ncbi.nlm.nih.gov/books/NBK613808/', 'content': '(e.g., Overjet Image Enhancement Assist), cardiology (e.g., EchoGo Heart Failure 2.0), neurology (e.g., BrainSee), hematology (e.g., AI-4510 Urine Particle Analysis System), and gastroenterology and urology (e.g., EndoScreener).64 [...] The workshop participants highlighted the importance of including AI for remote monitoring in the 2025 Watch List for several reasons. There are abundant data available from various wearable devices, and increasingly advanced machine learning models are being developed for data analysis. The shift in demographics toward an aging population and the growing prevalence of chronic diseases and comorbidities are generating increasingly large health care datasets. This increases the need for AI [...] development of AI agents are progressing rapidly, and the implementation of AI agents must consider the issues outlined in the 2025 Watch List.', 'score': 0.65835214}]\u001b[0m\n",
      "Thought:\u001b[32;1m\u001b[1;3mBased on the search results, there are several key developments in generative AI models in healthcare in 2025. These include the use of retrieval-augmented generation (RAG) in healthcare organizations, the application of generative AI models in drug design and molecular design, and the use of AI in administrative tasks in healthcare. I will now organize this information into a Markdown format.\n",
      "Final Answer: \n",
      "# Latest Generative AI in Healthcare (2025)\n",
      "\n",
      "## Retrieval-Augmented Generation (RAG)\n",
      "- Combines traditional vector database capabilities with large language models (LLMs)\n",
      "- Allows healthcare organization's chatbot to produce better answers for staff in Q&A applications\n",
      "- Reduces some of the pitfalls of using generative AI tools\n",
      "- [Source](https://healthtechmagazine.net/article/2025/01/overview-2025-ai-trends-healthcare)\n",
      "\n",
      "## Generative AI in Drug and Molecular Design\n",
      "- Makes it easier to design drugs by predicting how potential treatments will interact with protein targets\n",
      "- Helps refine drug development processes, particularly for complex diseases like Alzheimer’s and cancer\n",
      "- Models like AlphaFold and Genie are reshaping protein folding and drug development\n",
      "- Can reduce drug discovery costs by up to 40% and slash development timelines from five years to as little as 12-18 months\n",
      "- [Source](https://www.coherentsolutions.com/insights/artificial-intelligence-in-pharmaceuticals-and-biotechnology-current-trends-and-innovations)\n",
      "\n",
      "## AI in Administrative Tasks\n",
      "- Takes over many of the repetitive and rote administrative tasks that burden physicians\n",
      "- Allows physicians to perform more cognitive decision-making and focus more on human connections and time spent with patients\n",
      "- [Source](https://www.upskillist.com/blog/top-ai-agents-use-case-for-healthcare-in-2025/)\u001b[0m\n",
      "\n",
      "\u001b[1m> Finished chain.\u001b[0m\n"
     ]
    }
   ],
   "source": [
    "# Your prompt here\n",
    "prompt_1 = \"\"\"Summarize the latest developments in generative AI models applied in healthcare in 2025 in Markdown format with:\n",
    "- Main heading: Latest Generative AI in Healthcare (2025)\n",
    "- Subheadings per key model or development\n",
    "- Bullet points for features\n",
    "- Source links if any\n",
    "Keep it concise.      \"\"\"\n",
    "\n",
    "# Run it\n",
    "response_1 = agent.run(prompt_1)\n"
   ]
  },
  {
   "cell_type": "code",
   "execution_count": 5,
   "id": "0c70b057",
   "metadata": {},
   "outputs": [
    {
     "data": {
      "text/markdown": [
       "# Latest Generative AI in Healthcare (2025)\n",
       "\n",
       "## Retrieval-Augmented Generation (RAG)\n",
       "- Combines traditional vector database capabilities with large language models (LLMs)\n",
       "- Allows healthcare organization's chatbot to produce better answers for staff in Q&A applications\n",
       "- Reduces some of the pitfalls of using generative AI tools\n",
       "- [Source](https://healthtechmagazine.net/article/2025/01/overview-2025-ai-trends-healthcare)\n",
       "\n",
       "## Generative AI in Drug and Molecular Design\n",
       "- Makes it easier to design drugs by predicting how potential treatments will interact with protein targets\n",
       "- Helps refine drug development processes, particularly for complex diseases like Alzheimer’s and cancer\n",
       "- Models like AlphaFold and Genie are reshaping protein folding and drug development\n",
       "- Can reduce drug discovery costs by up to 40% and slash development timelines from five years to as little as 12-18 months\n",
       "- [Source](https://www.coherentsolutions.com/insights/artificial-intelligence-in-pharmaceuticals-and-biotechnology-current-trends-and-innovations)\n",
       "\n",
       "## AI in Administrative Tasks\n",
       "- Takes over many of the repetitive and rote administrative tasks that burden physicians\n",
       "- Allows physicians to perform more cognitive decision-making and focus more on human connections and time spent with patients\n",
       "- [Source](https://www.upskillist.com/blog/top-ai-agents-use-case-for-healthcare-in-2025/)"
      ],
      "text/plain": [
       "<IPython.core.display.Markdown object>"
      ]
     },
     "metadata": {},
     "output_type": "display_data"
    }
   ],
   "source": [
    "display(Markdown(response_1))\n"
   ]
  },
  {
   "cell_type": "markdown",
   "id": "3eab2627",
   "metadata": {},
   "source": [
    "### Exercise 2: AI Startups Landscape\n",
    "\n",
    "Goal: Track 2025’s top emerging AI startups and their innovations.\n",
    "\n",
    "- Create a prompt that instructs the agent to deliver a clean Markdown summary.\n",
    "- Tip: Ask for company names, product highlights, and sources."
   ]
  },
  {
   "cell_type": "code",
   "execution_count": 6,
   "id": "2109cbad",
   "metadata": {},
   "outputs": [
    {
     "name": "stdout",
     "output_type": "stream",
     "text": [
      "\n",
      "\n",
      "\u001b[1m> Entering new AgentExecutor chain...\u001b[0m\n",
      "\u001b[32;1m\u001b[1;3mI need to search for the top emerging AI startups and their innovations in 2025. I will use the TavilySafeSearch tool to find this information.\n",
      "Action: TavilySafeSearch\n",
      "Action Input: Top emerging AI startups and their innovations in 2025\u001b[0m\n",
      "Observation: \u001b[36;1m\u001b[1;3m[{'title': 'Top AI Startups in 2025 - StartupBlink', 'url': 'https://www.startupblink.com/blog/top-ai-startups/', 'content': 'OpenAI continues to be one of the most dominant AI companies globally in 2025. Based in San Francisco, it remains at the forefront of artificial intelligence development thanks to its widely adopted GPT models and integrations across Microsoft products. While ByteDance remains highly valued and influential, OpenAI’s central role in shaping the AI ecosystem has only grown, reinforcing its position as the most influential AI-first startup in the world today. [...] ### 4. Bytedance\\n\\nSB Score: 768\\n\\nLocation: Beijing, China\\n\\nByteDance is a global technology company best known for developing TikTok and its Chinese counterpart Douyin, both powered by advanced AI-driven recommendation algorithms. Founded in 2012, the company has since evolved into one of the world’s most valuable startups, leveraging artificial intelligence across content discovery, personalization, and user engagement. [...] ### 2. DeepL\\n\\nSB Score: 863\\n\\nLocation: Cologne, Germany\\n\\nDeepLis a leading AI-powered language translation company known for its highly accurate neural machine translation technology. Founded in 2017, DeepL quickly gained recognition for outperforming traditional tools like Google Translate, particularly in preserving tone and context across languages. Its intuitive platform supports dozens of languages and is widely used by professionals, enterprises, and individuals alike.', 'score': 0.9245858}, {'title': 'The Latest AI News and AI Breakthroughs that Matter Most: 2025', 'url': 'https://www.crescendo.ai/news/latest-ai-news-and-updates', 'content': 'Summary: Reveal HealthTech, an AI-powered healthcare startup based in Bengaluru and the U.S., raised $7.2 million in a Series A round led by Leo Capital, with continued support from Sanos Capital, W Health Ventures, and 2070 Health. The funding will bolster its core products, BioCanvas, which accelerates clinical trial recruitment using multimodal AI, and Prism AI, which automates healthcare workflows and improves patient adherence. Co-founded by Sanchit Mullick and Dr. Salim Ashar, the company [...] Date: September 1, 2025Summary: LayerX, a Tokyo-based AI SaaS startup founded in 2018, secured $100 million in Series B funding led by Technology Cross Ventures, marking TCV’s first-ever investment in a Japanese startup. The round included partners like MUFG Bank, Mitsubishi UFJ Innovation Partners, and JAFCO Group, bringing LayerX’s total raised to $192.2 million. The company’s platform automates workflows in finance, HR, procurement, and tax, serving over 15,000 enterprise clients with its [...] ### White Castle Launches AI-Powered Robot Delivery in Chicago\\n\\nDate: August 2, 2025\\n\\nSummary: White Castle has rolled out an AI-powered robot delivery service in parts of Chicago, in partnership with Cartken. The self-driving bots use computer vision and navigation AI to deliver meals to customers within a mile radius. Executives say it cuts delivery time and labor costs. The pilot is part of a broader push to automate fast food logistics.\\n\\nSource:NBC Chicago', 'score': 0.8832463}, {'title': 'June 2025: The Top 25 Unicorn AI Startups, and Their Enterprise ...', 'url': 'https://www.innovationleader.com/topics/articles-and-content-by-topic/scouting-trends-and-tech/june-2025-the-top-25-unicorn-ai-startups-and-their-enterprise-customers/', 'content': 'As we did this, a clear structure emerged. Frontier model makers like OpenAI and Mistral operate as the “brains” offering general-purpose intelligence. Application-layer startups like Moveworks or Harvey wrap those brains in jobs-to-done like legal assistants, IT agents, customer service assistants, and so on. And infrastructure firms like Scale or Snorkel are quietly refining the data plumbing, so the models can do more than hallucinate. [...] 2. Finance and Telecom Lead. Firms in finance and telecom like JPMorgan, Deutsche Telekom, Citi, and Vodafone show up across the board. Documentation and compliance-heavy environments are proving fertile ground for AI deployment, and big valuations for AI/ML doc extraction unicorns like Snorkel. [...] | Anthropic (Claude) | Anthropic’s Claude is a frontier multimodal model designed for safe, steerable AI interactions. Deployed by leading enterprises, it supports productivity, knowledge work, and agent-based use cases with a focus on alignment and controllability. | Deloitte ~460,000 employees (global)  SK Telecom ~23,000 employees (telecom)  Rakuten ~28,000 employees  Lotte Homeshopping ~10,000 employees  Thomson Reuters ~25,000 employees  Amazon (AmazonQ) ~1.M employees  Boston Consulting', 'score': 0.8790744}, {'title': '18 AI Startups to Watch in 2025 - Backlinko', 'url': 'https://backlinko.com/ai-startups', 'content': 'Artificial intelligence has become one of the key technologies reshaping the way we search for information, work with automating repetitive tasks, study with AI-powered tutors, and more.\\n\\nAI remains one of the dominant themes of venture capital investing and millions of users engage regularly with a growing number of AI apps.\\n\\nHere’s a curated list of 18 growing AI startups to look out for in 2025.\\n\\nLet’s dive right in!\\n\\n## 1. VEED\\n\\nWebsite: \\n\\nYear founded: 2018\\n\\nHQ: London, United Kingdom [...] Description: Fathom is a developer of an AI-powered messing assistant that automatically transcribes, and summarizes calls. It currently works with Zoom, Microsoft Teams, and Google Meet.\\n\\n## 9. Vidnoz\\n\\nWebsite: \\n\\nYear founded: 2016\\n\\nHQ: Los Angeles, California\\n\\nUsers: Not publicly disclosed\\n\\nFunding: Undisclosed [...] Description: Harvey is a legal tech startup that offers an AI-powered assistant to legal professionals. The company’s software helps with common tasks from legal research to document drafting.\\n\\n## 14. Liner\\n\\nWebsite: \\n\\nYear founded: 2012\\n\\nHQ: Seoul, South Korea\\n\\nUsers: 10 million\\n\\nFunding: $9 million', 'score': 0.85421735}, {'title': 'Forbes 2025 AI 50 List - Top Artificial Intelligence Companies Ranked', 'url': 'https://www.forbes.com/lists/ai50/', 'content': 'valuation of about $9 billion. Meanwhile, Fei Fei Li, known as the “godmother of AI”, has launched her own startup too, World Labs ($291.5 million raised), to develop models that can understand physical spaces. And then there’s enterprise AI company Writer ($326 million raised), which is training its own models to handle mundane business tasks like writing marketing blogs and searching through troves of documents. (Read our feature story on Writer here.)   Artificial intelligence companies [...] , a three year-old AI startup that helps engineers write and edit code and has at least $100 million in annualized revenue; the $1 billion-valued AI language tutor app Speak, which is used by some 10 million people to learn English and Spanish; and Massachusetts-based unicorn OpenEvidence, which is building an AI-powered search platform that summarizes medical information for doctors.   Model builders like OpenAI and Anthropic remain the biggest companies on the list, having raised large sums [...] through the courts. Multiple startups on the list, including OpenAI and Anthropic, have been sued for allegedly training their AI models on millions of copyrighted works of art and intellectual property. Meanwhile, a growing group of publishers, artists, musicians and authors have expressed concerns that AI companies have illegally scraped their data from the internet to create tools that then compete with them, posing a threat to their livelihoods. Image and video generation tools like Runway', 'score': 0.8506799}]\u001b[0m\n",
      "Thought:\u001b[32;1m\u001b[1;3mBased on the search results, I have found several AI startups and their innovations in 2025. I will now compile this information in the requested Markdown format.\n",
      "Final Answer: \n",
      "# Latest Generative AI (2025)\n",
      "\n",
      "## OpenAI\n",
      "- Continues to be one of the most dominant AI companies globally in 2025\n",
      "- Widely adopted GPT models and integrations across Microsoft products\n",
      "- Source: [StartupBlink](https://www.startupblink.com/blog/top-ai-startups/)\n",
      "\n",
      "## ByteDance\n",
      "- Global technology company best known for developing TikTok and Douyin\n",
      "- Powered by advanced AI-driven recommendation algorithms\n",
      "- Source: [StartupBlink](https://www.startupblink.com/blog/top-ai-startups/)\n",
      "\n",
      "## DeepL\n",
      "- AI-powered language translation company known for its highly accurate neural machine translation technology\n",
      "- Outperforms traditional tools like Google Translate, particularly in preserving tone and context across languages\n",
      "- Source: [StartupBlink](https://www.startupblink.com/blog/top-ai-startups/)\n",
      "\n",
      "## Reveal HealthTech\n",
      "- AI-powered healthcare startup\n",
      "- Core products include BioCanvas, which accelerates clinical trial recruitment using multimodal AI, and Prism AI, which automates healthcare workflows and improves patient adherence\n",
      "- Source: [Crescendo](https://www.crescendo.ai/news/latest-ai-news-and-updates)\n",
      "\n",
      "## LayerX\n",
      "- Tokyo-based AI SaaS startup\n",
      "- Platform automates workflows in finance, HR, procurement, and tax\n",
      "- Source: [Crescendo](https://www.crescendo.ai/news/latest-ai-news-and-updates)\n",
      "\n",
      "## Anthropic (Claude)\n",
      "- Frontier multimodal model designed for safe, steerable AI interactions\n",
      "- Supports productivity, knowledge work, and agent-based use cases with a focus on alignment and controllability\n",
      "- Source: [InnovationLeader](https://www.innovationleader.com/topics/articles-and-content-by-topic/scouting-trends-and-tech/june-2025-the-top-25-unicorn-ai-startups-and-their-enterprise-customers/)\n",
      "\n",
      "## VEED\n",
      "- Developer of an AI-powered messing assistant that automatically transcribes, and summarizes calls\n",
      "- Works with Zoom, Microsoft Teams, and Google Meet\n",
      "- Source: [Backlinko](https://backlinko.com/ai-startups)\n",
      "\n",
      "## Harvey\n",
      "- Legal tech startup that offers an AI-powered assistant to legal professionals\n",
      "- Helps with common tasks from legal research to document drafting\n",
      "- Source: [Backlinko](https://backlinko.com/ai-startups)\n",
      "\n",
      "## Writer\n",
      "- Enterprise AI company training its own models to handle mundane business tasks like writing marketing blogs and searching through troves of documents\n",
      "- Source: [Forbes](https://www.forbes.com/lists/ai50/)\u001b[0m\n",
      "\n",
      "\u001b[1m> Finished chain.\u001b[0m\n"
     ]
    }
   ],
   "source": [
    "# Your prompt here\n",
    "prompt_2 = \"\"\"Track the top emerging AI startups and their innovations in 2025 in Markdown format with:\n",
    "- Main heading: Latest Generative AI (2025)\n",
    "- Subheadings per key model or development\n",
    "- Bullet points for features\n",
    "- Source links if any\n",
    "Keep it concise.\"\"\"\n",
    "\n",
    "# Run it\n",
    "response_2 = agent.run(prompt_2)\n"
   ]
  },
  {
   "cell_type": "code",
   "execution_count": 7,
   "id": "6504bd84",
   "metadata": {},
   "outputs": [
    {
     "data": {
      "text/markdown": [
       "# Latest Generative AI (2025)\n",
       "\n",
       "## OpenAI\n",
       "- Continues to be one of the most dominant AI companies globally in 2025\n",
       "- Widely adopted GPT models and integrations across Microsoft products\n",
       "- Source: [StartupBlink](https://www.startupblink.com/blog/top-ai-startups/)\n",
       "\n",
       "## ByteDance\n",
       "- Global technology company best known for developing TikTok and Douyin\n",
       "- Powered by advanced AI-driven recommendation algorithms\n",
       "- Source: [StartupBlink](https://www.startupblink.com/blog/top-ai-startups/)\n",
       "\n",
       "## DeepL\n",
       "- AI-powered language translation company known for its highly accurate neural machine translation technology\n",
       "- Outperforms traditional tools like Google Translate, particularly in preserving tone and context across languages\n",
       "- Source: [StartupBlink](https://www.startupblink.com/blog/top-ai-startups/)\n",
       "\n",
       "## Reveal HealthTech\n",
       "- AI-powered healthcare startup\n",
       "- Core products include BioCanvas, which accelerates clinical trial recruitment using multimodal AI, and Prism AI, which automates healthcare workflows and improves patient adherence\n",
       "- Source: [Crescendo](https://www.crescendo.ai/news/latest-ai-news-and-updates)\n",
       "\n",
       "## LayerX\n",
       "- Tokyo-based AI SaaS startup\n",
       "- Platform automates workflows in finance, HR, procurement, and tax\n",
       "- Source: [Crescendo](https://www.crescendo.ai/news/latest-ai-news-and-updates)\n",
       "\n",
       "## Anthropic (Claude)\n",
       "- Frontier multimodal model designed for safe, steerable AI interactions\n",
       "- Supports productivity, knowledge work, and agent-based use cases with a focus on alignment and controllability\n",
       "- Source: [InnovationLeader](https://www.innovationleader.com/topics/articles-and-content-by-topic/scouting-trends-and-tech/june-2025-the-top-25-unicorn-ai-startups-and-their-enterprise-customers/)\n",
       "\n",
       "## VEED\n",
       "- Developer of an AI-powered messing assistant that automatically transcribes, and summarizes calls\n",
       "- Works with Zoom, Microsoft Teams, and Google Meet\n",
       "- Source: [Backlinko](https://backlinko.com/ai-startups)\n",
       "\n",
       "## Harvey\n",
       "- Legal tech startup that offers an AI-powered assistant to legal professionals\n",
       "- Helps with common tasks from legal research to document drafting\n",
       "- Source: [Backlinko](https://backlinko.com/ai-startups)\n",
       "\n",
       "## Writer\n",
       "- Enterprise AI company training its own models to handle mundane business tasks like writing marketing blogs and searching through troves of documents\n",
       "- Source: [Forbes](https://www.forbes.com/lists/ai50/)"
      ],
      "text/plain": [
       "<IPython.core.display.Markdown object>"
      ]
     },
     "metadata": {},
     "output_type": "display_data"
    }
   ],
   "source": [
    "display(Markdown(response_2))\n"
   ]
  },
  {
   "cell_type": "markdown",
   "id": "942b8fda",
   "metadata": {},
   "source": [
    "### Exercice 3: Compare Two Tech Products\n",
    "- **Prompt idea:** Compare the key features, pricing, and reviews of OpenAI’s ChatGPT Team and Anthropic’s Claude Pro.\n",
    "- Ensure the agent outputs a structured response in Markdown.\n",
    "\n",
    "\n"
   ]
  },
  {
   "cell_type": "code",
   "execution_count": 8,
   "id": "58ff7f14",
   "metadata": {},
   "outputs": [
    {
     "name": "stdout",
     "output_type": "stream",
     "text": [
      "\n",
      "\n",
      "\u001b[1m> Entering new AgentExecutor chain...\u001b[0m\n",
      "\u001b[32;1m\u001b[1;3mI need to find information about the key features, pricing, and reviews of OpenAI's ChatGPT Team and Anthropics Claude Pro. I will use TavilySafeSearch to find this information.\n",
      "Action: TavilySafeSearch\n",
      "Action Input: OpenAI's ChatGPT Team key features, pricing, and reviews\u001b[0m\n",
      "Observation: \u001b[36;1m\u001b[1;3m[{'title': 'Is ChatGPT Teams right for your business? An honest 2025 review', 'url': 'https://www.eesel.ai/blog/chatgpt-teams', 'content': '| Feature | ChatGPT Plus | ChatGPT Teams |\\n --- \\n| Price | $20/user/month | $30/user/month (monthly) or $25/user/month (annually) |\\n| Users | 1 | 2+ |\\n| Workspace | Personal | Shared Team Workspace |\\n| Admin Controls | No | Yes |\\n| Data Training | Opt-out available | Never trained on your data by default |\\n| Custom GPTs | Create for personal use | Create and share within workspace |\\n| Early Access | Often receives new features first | Can lag behind the Plus plan | [...] In a nutshell, ChatGPT Teams is OpenAI’s subscription plan for businesses. It used to be called ChatGPT Team and was later renamed from ChatGPT Business, but the goal is the same: give teams a secure, shared workspace to access OpenAI’s best AI models.\\n\\nIt’s built for company use, which makes it different from the personal ChatGPT Plus plan. Here’s what you get: [...] Access to the good stuff: Your team gets higher message limits on powerful models like GPT-4 and can use creative tools like DALL·E 3 more freely.\\n A private workspace: It provides a central hub with admin tools, so you can manage who’s on the team and handle billing in one place.\\n Your data stays yours: This is a big one for businesses. OpenAI promises they won’t use your conversations or company data from ChatGPT Teams to train their models.', 'score': 0.8364614}, {'title': 'ChatGPT Review: Is It Worth It in 2025? [In-Depth] | Team-GPT', 'url': 'https://team-gpt.com/blog/chatgpt-review', 'content': 'Team: Starts from $25/month/seat when billed annually, which gives you access to unlimited access to GPT-4o mini and a higher message limit on the other AI models.\\n Enterprise: A high-speed access to ChatGPT’s AI models, an expanded context window for longer inputs, enterprise-grade security, and admin controls.\\n\\n➡️ We dived deeper into ChatGPT’s pricing model to help you figure out if the platform’s pricing structure works for your use case.\\n\\nRating: 9/10. [...] Integrations: 8/10. ChatGPT’s custom GPTs are a good way of connecting ChatGPT to your productivity platforms.\\n Team collaboration: 6/10. The AI solution has above-average team collaboration capabilities, but not as good as alternatives on the market.\\n Pricing model: 9/10. ChatGPT offers a plan for everyone – from university students to enterprises. [...] ‘’The free version has limited capabilities, and even the Plus version has some restrictions, particularly in image generation and data analysis. When working with complex data, the responses occasionally lack accuracy, which can be frustrating.’’ – G2 Review.\\n\\n## Verdict: Is ChatGPT Really Worth It?\\n\\nSo far, I’ve rated ChatGPT:\\n\\n Range of features: 8/10.\\n User interface and usability: 9/10.\\n Security measures: 5/10.\\n Integrations: 8/10.\\n Team collaboration: 6/10.\\n Pricing model: 9/10.', 'score': 0.82728493}, {'title': 'ChatGPT Teams Pricing: Complete Guide for 2025 - Unleash.so', 'url': 'https://www.unleash.so/post/chatgpt-teams-pricing-complete-guide-for-2025-better-alternatives', 'content': \"Access to GPT-4 and GPT-4 Turbo models\\n Higher message limits (100 messages per 3 hours vs 40 for Plus)\\n Team workspace for collaboration\\n Admin console for user management\\n Early access to new features and models\\n Data exclusion from OpenAI model training\\n DALL-E 3 image generation capabilities\\n Advanced data analysis tools\\n Custom GPTs creation and sharing\\n\\nComplete ChatGPT pricing breakdown: [...] Unleash provides a more comprehensive AI solution specifically designed for businesses that need more than basic chat functionality. While ChatGPT Teams pricing starts at $25/month per user, Unleash delivers enterprise-grade capabilities that address the core limitations businesses face with OpenAI's platform.\\n\\nKey advantages of Unleash vs ChatGPT Teams:\\n\\n### 1. Enterprise-Grade Security and Deployment Flexibility [...] What's included in ChatGPT Teams pricing? The pricing includes GPT-4 access, higher message limits (100 per 3 hours), team workspace, admin console, early feature access, and data exclusion from training.\\n\\nHow does ChatGPT Teams pricing compare to ChatGPT Plus? ChatGPT Plus costs $20/month for individual use, while ChatGPT Teams costs $25-30/month but includes team collaboration features and admin controls.\", 'score': 0.7634314}, {'title': 'ChatGPT Pricing Guide: Plans, Features, and Alternatives', 'url': 'https://www.cloudeagle.ai/blogs/blog-chatgpt-pricing-guide', 'content': 'Team ($25–$30/user/month): Offers unlimited access to GPT-4o and 4.1-mini, plus generous usage limits for advanced models. Great for collaborative teams needing more scale.\\n Enterprise (Custom Pricing): Everything in Team, plus an expanded context window for GPT-4o. Supports longer inputs and larger file uploads, perfect for large-scale deployments with security and performance in mind. [...] Free: Limited access to GPT-4o-mini. Best for basic use and experimentation.\\n Plus ($20/month): Includes GPT-4o and access to multiple reasoning models, like OpenAI o3, o4-mini, and o4-mini-high. Also includes research previews of GPT-4.5 (OpenAI’s largest model yet) and GPT-4.1 (optimized for code).\\n Pro ($200/month): Unlocks unlimited access to all reasoning models and GPT-4o, ideal for power users who rely on speed, memory, and accuracy. [...] Cost: $200 per month\\n Best For: Developers and professionals requiring higher limits and premium tools\\n Features: Access to GPT-4o and o1-pro, extended token limits, advanced model settings, file uploads, API enhancements\\n Drawbacks: High price point, overkill for casual users\\n\\n### ChatGPT Team Plan', 'score': 0.76002824}, {'title': 'What is ChatGPT Business? - OpenAI Help Center', 'url': 'https://help.openai.com/en/articles/8792828-what-is-chatgpt-team', 'content': 'ChatGPT Team adheres to our Business Terms and the privacy policies listed on the Enterprise Privacy page under ChatGPT Team FAQ. OpenAI won’t train on your workspace’s data.\\n\\nHow does the pricing work for ChatGPT Team?\\n\\nChatGPT Team is available for 2 or more users. You can purchase this subscription on an annual plan for $25/seat/mo or on a monthly plan priced at $30/seat/mo. Read more in our Managing Billing for ChatGPT Team help article.', 'score': 0.7557276}]\u001b[0m\n",
      "Thought:\u001b[32;1m\u001b[1;3mI have found information about the key features, pricing, and reviews of OpenAI's ChatGPT Team. Now I will search for the same information about Anthropics Claude Pro.\n",
      "Action: TavilySafeSearch\n",
      "Action Input: Anthropics Claude Pro key features, pricing, and reviews\u001b[0m\n",
      "Observation: \u001b[36;1m\u001b[1;3m[{'title': 'Claude Pro vs Claude Max : Pricing, Features & Ideal Use Cases', 'url': 'https://dev.to/_37bbf0c253c0b3edec531e/claude-pro-vs-claude-max-pricing-features-ideal-use-cases-4plk', 'content': 'Anthropic’s Claude subscription ecosystem now spans from free access to a robust Pro plan and a thoughtful, tiered Max offering. By pricing Claude\\u202fPro at $20\\u202fper month ($17\\u202fwith annual billing) and introducing two levels of Max—$100 for Expanded Usage and $200 for Maximum Flexibility—Anthropic addresses a broad spectrum of users, from occasional creators to enterprises embedding AI into core operations. Compared to competitors, Anthropic’s mid‑range flexibility stands out, filling a gap left by [...] ## What is Claude Pro?\\n\\n### How much does Claude Pro cost?\\n\\nClaude\\u202fPro is Anthropic’s mid‑tier subscription designed for everyday productivity and professional use. It is priced at $20\\u202fper month in the United States if billed monthly, or $17\\u202fper month (i.e., $200\\u202fper year) when billed annually . Internationally, pricing may vary slightly to accommodate local currencies and taxes .\\n\\n### What features are included with Claude Pro? [...] Here is a concise overview of what follows: Anthropic currently offers two paid subscription plans for its Claude AI assistant—Claude\\u202fPro and Claude\\u202fMax. Claude\\u202fPro provides enhanced access to Claude’s capabilities for $20\\u202fper month (or $17\\u202fper month when billed annually), delivering approximately five times the usage of the free tier. Claude\\u202fMax comprises two tiers—Expanded Usage at $100\\u202fper month (5× Pro’s limits) and Maximum Flexibility at $200\\u202fper month (20× Pro’s limits)—designed for', 'score': 0.84948516}, {'title': 'Pricing - Anthropic', 'url': 'https://www.anthropic.com/pricing', 'content': '# Pricing Pricing\\n\\nIndividualTeam & EnterpriseAPI\\n\\n ## Free\\n\\n  Try Claude\\n\\n  $0\\n\\n  Free for everyone\\n\\n  Try Claude\\n\\n  Try Claude\\n\\n  + Chat on web, iOS, Android, and on your desktop\\n  + Generate code and visualize data\\n  + Write, edit, and create content\\n  + Analyze text and images\\n  + Ability to search the web\\n  + Unlock more from Claude with desktop extensions\\n ## Pro\\n\\n  For everyday productivity\\n\\n  $17\\n\\n  Per month with annual subscription discount; $200 billed up front. $20 if billed monthly. [...] Per person billed monthly\\n\\n  Try Claude\\n\\n  Try Claude\\n\\n  ### Everything in Pro, plus:\\n\\n  + Choose 5x or 20x more usage per session than Pro\\\\\\n  + Higher output limits for all tasks\\n  + Early access to advanced Claude features\\n  + Priority access at high traffic times\\n\\nAdditional usage limits apply. Prices shown do not include applicable tax.\\n\\n ### Team\\n\\n  For collaboration across organizations\\n\\n  Create a Team plan\\n\\n  Create a Team plan\\n\\n  Standard seat\\n\\n  $25\\n\\n  Chat, projects, and more [...] Try Claude\\n\\n  Try Claude\\n\\n  ### Everything in Free, plus:\\n\\n  + More usage\\\\\\n  + Access Claude Code directly in your terminal\\n  + Access to unlimited Projects to organize chats and documents\\n  + Access to Research\\n  + Connect Google Workspace: email, calendar, and docs\\n  + Connect your everyday tools in just a few clicks \\u2028(with remote MCP servers)\\n  + Extended thinking for complex work\\n  + Ability to use more Claude models\\n ## Max\\n\\n  Get the most out of Claude\\n\\n  From $100', 'score': 0.79196626}, {'title': 'Introducing Claude Pro - Anthropic', 'url': 'https://www.anthropic.com/news/claude-pro', 'content': 'With Claude Pro, subscribers can now gain 5x more usage of our latest model, Claude 2, for a monthly price of $20 (US) or £18 (UK).  \\n  \\nThis means you can level up your productivity across a range of tasks, including summarizing research papers, querying contracts, and iterating further on coding projects—like this recent demo of building an interactive map.', 'score': 0.77873385}, {'title': 'Claude Review: Is It Worth It in 2025? [In-Depth] | Team-GPT', 'url': 'https://team-gpt.com/blog/claude-review/', 'content': 'Pro Plan: $20/month/user, which gives you priority access to Claude 3 Opus and Haiku, as well as early access to new features.\\n Team Plan: $25/month for five users when paid annually, which gives you access to more usage than the Pro Plan with early access to collaboration features.\\n Enterprise Plan: Custom pricing for a custom team size, which gives you access to data source integrations, expanded content window, and more usage than the Team plan.\\n\\nRating: 9/10. [...] Range of features: 8/10.\\n User interface and usability: 9/10.\\n Security measures: 7/10.\\n Team collaboration capabilities: 8/10\\n Integrations: 8/10.\\n Pricing model: 9/10.\\n\\nWhich gives Claude an average rating of 8/10 for me.\\n\\nTo summarize:\\n\\n#### Claude is the right choice if you:\\n\\n✅ Operate alone and are looking for a free AI platform to use, similar to ChatGPT.\\n\\n✅ Are looking for different AI models that can accommodate simpler and more complex tasks.', 'score': 0.7750779}, {'title': 'AI Product Review for Solo Practitioners and Small Firms: Claude ...', 'url': 'https://nvbar.org/wp-content/uploads/Claude-AI-Review_Final.pdf', 'content': 'and Small Firms: Claude Pro, by Anthropic - Page 6 of 6 Summary Claude Pro offers solo practitioners and small ﬁrms a useful AI tool for routine tasks like document summarization and drafting, receiving a satisfactory score of 31.62 out of 50 across ten categories. Its main strengths lie in cost-effectiveness, a positive market reputation, and a solid commitment to bias and fairness. Claude Pro provides reasonable value at a low monthly cost and has garnered positive feedback for its ease of [...] GDPR, CCPA, the EU AI Act, and China’s Personal Information Protection 1 Claude offers Pro for $20/month and Team for $25 per month. Team includes all of the functionalities of Pro as well as the following things that are relevant to this review: the ability to share and discover chats from teammates. AI Product Review for Solo Practitioners and Small Firms: Claude Pro, by Anthropic - Page 5 of 6 Law (PIPL)—may not be fully addressed. Anthropic has shown commitment to regulatory engagement by [...] 4/5 Claude Pro scores a 4 out of 5 for user feedback and market reputation, reﬂecting a positive standing within the AI community and favorable user reviews. Attorneys and general users alike often commend Claude Pro for its intuitive features and reliable performance in everyday tasks, contributing to a solid, if not leading, market presence. While Anthropic’s Claude Pro has gained traction, particularly for its ethical approach to AI and robust foundational support, it still trails behind', 'score': 0.7636429}]\u001b[0m\n",
      "Thought:\u001b[32;1m\u001b[1;3mI have found information about the key features, pricing, and reviews of Anthropics Claude Pro. Now I can compile this information into a markdown format.\n",
      "Final Answer: \n",
      "# Claude vs ChatGPT\n",
      "\n",
      "## ChatGPT Team\n",
      "- Price: $30/user/month (monthly) or $25/user/month (annually) [source](https://www.eesel.ai/blog/chatgpt-teams)\n",
      "- Key Features:\n",
      "  - Shared Team Workspace\n",
      "  - Admin Controls\n",
      "  - Data Training: Never trained on your data by default\n",
      "  - Custom GPTs: Create and share within workspace\n",
      "  - Access to powerful models like GPT-4 and creative tools like DALL·E 3\n",
      "- Reviews: \n",
      "  - Range of features: 8/10\n",
      "  - User interface and usability: 9/10\n",
      "  - Security measures: 5/10\n",
      "  - Integrations: 8/10\n",
      "  - Team collaboration: 6/10\n",
      "  - Pricing model: 9/10 [source](https://team-gpt.com/blog/chatgpt-review)\n",
      "\n",
      "## Anthropics Claude Pro\n",
      "- Price: $20 per month if billed monthly, or $17 per month when billed annually [source](https://dev.to/_37bbf0c253c0b3edec531e/claude-pro-vs-claude-max-pricing-features-ideal-use-cases-4plk)\n",
      "- Key Features:\n",
      "  - More usage\n",
      "  - Access Claude Code directly in your terminal\n",
      "  - Access to unlimited Projects to organize chats and documents\n",
      "  - Access to Research\n",
      "  - Connect Google Workspace: email, calendar, and docs\n",
      "  - Connect your everyday tools in just a few clicks \n",
      "  - Extended thinking for complex work\n",
      "  - Ability to use more Claude models [source](https://www.anthropic.com/pricing)\n",
      "- Reviews: \n",
      "  - Range of features: 8/10\n",
      "  - User interface and usability: 9/10\n",
      "  - Security measures: 7/10\n",
      "  - Team collaboration capabilities: 8/10\n",
      "  - Integrations: 8/10\n",
      "  - Pricing model: 9/10 [source](https://team-gpt.com/blog/claude-review/)\u001b[0m\n",
      "\n",
      "\u001b[1m> Finished chain.\u001b[0m\n"
     ]
    }
   ],
   "source": [
    "# Your prompt here\n",
    "prompt_3 = \"\"\"Compare the key features,pricing and reviews of OpenAIs ChatGPT Team and Anthropics Claude Pro in Markdown format with:\n",
    "- Main heading: Claude vs ChatGPT\n",
    "- Subheadings per key model or development\n",
    "- Bullet points for features\n",
    "- Source links if any\n",
    "Keep it concise.\"\"\"\n",
    "\n",
    "# Run it\n",
    "response_3 = agent.run(prompt_3)\n"
   ]
  },
  {
   "cell_type": "code",
   "execution_count": 9,
   "id": "b8bf9711",
   "metadata": {},
   "outputs": [
    {
     "data": {
      "text/markdown": [
       "# Claude vs ChatGPT\n",
       "\n",
       "## ChatGPT Team\n",
       "- Price: $30/user/month (monthly) or $25/user/month (annually) [source](https://www.eesel.ai/blog/chatgpt-teams)\n",
       "- Key Features:\n",
       "  - Shared Team Workspace\n",
       "  - Admin Controls\n",
       "  - Data Training: Never trained on your data by default\n",
       "  - Custom GPTs: Create and share within workspace\n",
       "  - Access to powerful models like GPT-4 and creative tools like DALL·E 3\n",
       "- Reviews: \n",
       "  - Range of features: 8/10\n",
       "  - User interface and usability: 9/10\n",
       "  - Security measures: 5/10\n",
       "  - Integrations: 8/10\n",
       "  - Team collaboration: 6/10\n",
       "  - Pricing model: 9/10 [source](https://team-gpt.com/blog/chatgpt-review)\n",
       "\n",
       "## Anthropics Claude Pro\n",
       "- Price: $20 per month if billed monthly, or $17 per month when billed annually [source](https://dev.to/_37bbf0c253c0b3edec531e/claude-pro-vs-claude-max-pricing-features-ideal-use-cases-4plk)\n",
       "- Key Features:\n",
       "  - More usage\n",
       "  - Access Claude Code directly in your terminal\n",
       "  - Access to unlimited Projects to organize chats and documents\n",
       "  - Access to Research\n",
       "  - Connect Google Workspace: email, calendar, and docs\n",
       "  - Connect your everyday tools in just a few clicks \n",
       "  - Extended thinking for complex work\n",
       "  - Ability to use more Claude models [source](https://www.anthropic.com/pricing)\n",
       "- Reviews: \n",
       "  - Range of features: 8/10\n",
       "  - User interface and usability: 9/10\n",
       "  - Security measures: 7/10\n",
       "  - Team collaboration capabilities: 8/10\n",
       "  - Integrations: 8/10\n",
       "  - Pricing model: 9/10 [source](https://team-gpt.com/blog/claude-review/)"
      ],
      "text/plain": [
       "<IPython.core.display.Markdown object>"
      ]
     },
     "metadata": {},
     "output_type": "display_data"
    }
   ],
   "source": [
    "display(Markdown(response_3))\n"
   ]
  },
  {
   "cell_type": "markdown",
   "id": "4f40dbe3",
   "metadata": {},
   "source": [
    "## Bonus Task: Propose and Implement Your Own Use Case\n",
    "\n",
    "As a final challenge, think of a real-world scenario where an AI agent could provide value using web search or external tools.\n"
   ]
  },
  {
   "cell_type": "code",
   "execution_count": 12,
   "id": "9f281c9b",
   "metadata": {},
   "outputs": [],
   "source": [
    "prompt_4= \"\"\"Compare flight prices between different airlines and estimate which airline provides the cheapest flights to Tunisia year out. You should also determine when is the best month to travel to Tunisia from Frankfurt based on cheapest price\n",
    "\n",
    "- Main heading: Best month for cheap Tunisian flights\n",
    "- Subheadings per key model or development\n",
    "- Bullet points for features\n",
    "- Source links if any\n",
    "Keep it concise.\"\"\""
   ]
  },
  {
   "cell_type": "code",
   "execution_count": 13,
   "id": "a1f3161d",
   "metadata": {},
   "outputs": [
    {
     "name": "stdout",
     "output_type": "stream",
     "text": [
      "\n",
      "\n",
      "\u001b[1m> Entering new AgentExecutor chain...\u001b[0m\n",
      "\u001b[32;1m\u001b[1;3mI need to find information on flight prices from different airlines to Tunisia and determine the cheapest one. I also need to find out the cheapest month to travel to Tunisia from Frankfurt. I will use TavilySafeSearch to find this information.\n",
      "Action: TavilySafeSearch\n",
      "Action Input: \"Cheapest airlines for flights to Tunisia\"\u001b[0m\n",
      "Observation: \u001b[36;1m\u001b[1;3m[{'title': 'Cheap Flights to Tunisia', 'url': 'https://www.kayak.com/flight-routes/United-States-US0/Tunisia-TN0', 'content': \"# $239 Find Cheap Flights to Tunisia\\n\\n## KAYAK searches hundreds of travel sites at once for deals on flights to Tunisia\\n\\nTurkish Airlines\\nAir France\\nRoyal Air Maroc\\nLufthansa\\nITA Airways\\nDelta\\n\\nSave 22% or moreCompare multiple travel sites with one search.\\n\\nTrack pricesNot ready to book? Create a price alert for when prices drop.\\n\\nBundle and saveSave money when you bundle your flight + hotel.\\n\\nFilter your dealsChoose cabin class, free Wi-Fi and more.\\n\\n## Cheap Flights to Tunisia [...] Tunis\\nHoumt Souk\\nTunis\\nHoumt Souk\\n\\n## Book Cheap Tunisia Plane Tickets\\n\\n### Recent round-trip flight deals to Tunisia\\n\\n Logo\\n Logo\\n Logo\\n Logo\\nRoyal Air Maroc Logo\\nRoyal Air Maroc Logo\\nLufthansa Logo\\nLufthansa Logo\\nLufthansa Logo\\nLufthansa Logo\\nAir France Logo\\nAir France Logo\\nRoyal Air Maroc Logo\\nRoyal Air Maroc Logo\\nTurkish Airlines Logo\\nTurkish Airlines Logo\\nAir France Logo\\nAir France Logo\\nTurkish Airlines Logo\\nTurkish Airlines Logo\\n\\n### Recent one-way flight deals to Tunisia [...] Logo\\n Logo\\nRoyal Air Maroc Logo\\nRoyal Air Maroc Logo\\n Logo\\n Logo\\nAir Europa Logo\\nAir Europa Logo\\nTurkish Airlines Logo\\nTurkish Airlines Logo\\nTurkish Airlines Logo\\nTurkish Airlines Logo\\nDelta Logo\\nDelta Logo\\nDelta Logo\\nDelta Logo\\nLufthansa Logo\\nLufthansa Logo\\nLufthansa Logo\\nLufthansa Logo\\n\\n## KAYAK's insights & trends for flights to Tunisia\\n\\n### Get data-powered insights and trends for flights to Tunisia to help you find the cheapest flights, the best time to fly and much more.\", 'score': 0.91288006}, {'title': 'Cheapest flights from Tunisia - Expedia', 'url': 'https://www.expedia.com/lp/flights/182/flights-from-tunisia', 'content': 'Starting from $44.00You can fly from Tunisia with: Transavia France, Tunis Air, Nouvelair, Aegean, Neos S.P.A., Lufthansa, ITA Airways. What is the best month to fly from Tunisia?', 'score': 0.8997663}, {'title': 'Find Cheap Flights from Tunis (TUN) - Google', 'url': 'https://www.google.com/travel/flights/flights-from-tunis.html?gl=US&hl=en-US', 'content': 'Other popular airlines flying from Tunis are Nouvelair Tunisie, Transavia, Tunisair Express, Eurowings, UR Airlines.\\n   Nouvelair Tunisie flies directly to 25 cities. Nouvelair Tunisie flies from Tunis-Carthage International Airport (TUN).\\n   Transavia flies directly to 6 cities. Transavia flies from Tunis-Carthage International Airport (TUN).\\n   Tunisair Express flies directly to 6 cities. Tunisair Express flies from Tunis-Carthage International Airport (TUN). [...] In terms of direct flights, Tunisair is the most popular, flying directly to 35 cities. Tunisair flies from Tunis-Carthage International Airport (TUN). [...] Tunisair offers direct flights from Tunis to 35 cities. The most frequent destinations are: Paris, Marseille, Istanbul, Nice and Lyon.\\n   Nouvelair Tunisie offers direct flights from Tunis to 25 cities. The most frequent destinations are: Paris, Lyon, Milan, Marseille and Istanbul.\\n   Transavia offers direct flights from Tunis to 6 cities. The most frequent destinations are: Paris, Lyon, Marseille, Nantes and Montpellier.', 'score': 0.8467682}, {'title': 'Cheap flights from Los Angeles International to Tunisia', 'url': 'https://www.skyscanner.com/routes/lax/tn/los-angeles-international-to-tunisia.html', 'content': 'Cheap flights from Los Angeles International to Tunisia from $584 | Skyscanner\\n\\nSkyscanner\\n\\n   Help\\n   English (US)ENImage 1: USUnited States$ USD USD ($)  \\n   ·$USD\\n\\nHelpPrivacy SettingsLog in\\n\\nPrivacy policyTerms of serviceCompany DetailsDo Not Sell or Share My Personal Information\\n\\nExplore\\n\\n   Domestic flights \\n   Cities \\n\\n       New York \\n       Los Angeles \\n       Chicago \\n       Las Vegas \\n       Miami \\n       London \\n       Paris [...] mmmmmmmmmmlli mmmmmmmmmmlli [...] Last-minute deals \\n   Daily Flight Deals \\n   Airports \\n   Countries \\n\\n       United Kingdom \\n       Spain \\n       Mexico \\n       Italy \\n       India \\n       Thailand \\n\\n   Airlines \\n   Flights from the US \\n   Hotels Deals in Popular Cities \\n   Car rental \\n   App \\n   Travel trends \\n   Sitemap \\n   Destinations \\n\\nCompany\\n\\n   About us \\n   Why Skyscanner? \\n   Media \\n   Our people \\n   Accessibility \\n   Sustainability \\n   Jobs \\n   Travel features & news \\n   Security \\n\\nPartners', 'score': 0.6307082}, {'title': 'Find Cheap Flights to Tunis (TUN) - Google', 'url': 'https://www.google.com/travel/flights/flights-to-tunis.html?gl=US&hl=en-US', 'content': '# Cheap flights to Tunis\\n\\n## Cheap flights from United States to Tunis\\n\\n## Popular airlines with direct flights to Tunis\\n\\n## Popular airports near Tunis\\n\\n## When to fly to Tunis\\n\\nOff-seasons section.\\nPeak seasons section.\\n\\n## About Tunis\\n\\n## Frequently asked questions about flying to Tunis\\n\\n## Search more flights\\n\\n### Find cheap flights on popular routes\\n\\nCurrent language and currency options applied: English (United States) - United States - USD [...] Displayed currencies may differ from the currencies used to purchase flights. Learn more', 'score': 0.44999737}]\u001b[0m\n",
      "Thought:\u001b[32;1m\u001b[1;3mThe search results mention several airlines that offer flights to Tunisia, including Turkish Airlines, Air France, Royal Air Maroc, Lufthansa, ITA Airways, Delta, Transavia France, Tunis Air, Nouvelair, Aegean, Neos S.P.A., and Tunisair Express. However, the results do not provide specific information on which airline offers the cheapest flights. I need to perform another search to find more specific information.\n",
      "Action: TavilySafeSearch\n",
      "Action Input: \"Cheapest month to fly to Tunisia from Frankfurt\"\u001b[0m\n",
      "Observation: \u001b[36;1m\u001b[1;3m[{'title': '$116 Cheap Flights from Frankfurt to Tunis Carthage - Skyscanner', 'url': 'https://www.skyscanner.com/routes/fran/tun/frankfurt-to-tunis-carthage.html', 'content': 'The cheapest month to fly from Frankfurt to Tunis Carthage is usually September. Which upcoming date is cheapest to fly from Frankfurt to Tunis', 'score': 0.91156644}, {'title': 'Find Cheap Flights from Frankfurt am Main to Tunis (FRA - Google', 'url': 'https://www.google.com/travel/flights/flights-from-frankfurt-am-main-to-tunis.html?gl=DE&hl=en', 'content': '## When is the cheapest time to fly?\\n\\n|  |  |\\n --- |\\n| February Cheapest | Typical prices: €165–275 |\\n| August Most expensive | Typical prices: €365–485 |\\n\\n## Popular airlines from Frankfurt am Main to Tunis\\n\\nPopularity is based on the number of weekly nonstop and connecting flights the airline operates. Connecting flights do not include interline routes. [...] |  |  |  |  |  |\\n ---  --- \\n| Cheapest round-trip flights | €191 | Nouvelair TunisieNonstop3 hrSep 19 — Sep 21 | The cheapest round-trip flight from Frankfurt am Main to Tunis is currently €191 | Find flights |\\n| Cheapest one-way flight | €107 | Nouvelair TunisieNonstop3 hrSep 10 | The cheapest one-way flight from Frankfurt am Main to Tunis is currently €107 | Find flights |\\n| Fastest flight | 2 hr 20 min | The fastest nonstop flight from Frankfurt am Main to Tunis takes 2 hr 20 min | [...] ## Frequently asked questions about flying from Frankfurt am Main to Tunis\\n\\n## Search more flights\\n\\n### Popular trips from Frankfurt am Main\\n\\nThese suggestions are based on the cheapest fares to popular destinations in the next six months.\\n\\nPrices include required taxes + fees for 1 adult. Optional charges and bag fees may apply.\\n\\n### Find cheap flights from Frankfurt am Main to anywhere\\n\\n### Find cheap flights on popular routes', 'score': 0.87605256}, {'title': 'Cheap Flights from Frankfurt to Tunis (FRA-TUN) - Expedia', 'url': 'https://www.expedia.com/lp/flights/fra/tun/frankfurt-to-tunis', 'content': 'Cheap Flights from Frankfurt (FRA) to Tunis (TUN) start at $129 for one-way and $170 for round trip. Earn your airline miles on top of our rewards!', 'score': 0.73207545}, {'title': 'Cheap Flights to Tunisia', 'url': 'https://www.kayak.com/flight-routes/United-States-US0/Tunisia-TN0', 'content': '### What is the cheapest month to fly from the United States to Tunisia?\\n\\n#### The cheapest month for flights from the United States to Tunisia is February, when tickets cost $676 (return) on average. On the other hand, the most expensive months are June and December, when the average cost of round-trip tickets is $1,642 and $1,347 respectively.\\n\\n### How far in advance should I book a flight from the United States to Tunisia? [...] #### From the United States, Lufthansa Airlines provides a variety of flight choices for travelers flying to Tunisia, with a single stop at Frankfurt Am Main International Airport (FRA). Therefore, considering a flight with Lufthansa is a good idea for travelers who enjoy using airport lounge amenities. There are approximately 11 distinct lounges offered by this airline at FRA airport, all of which are excellent places to pass time while you have a layover. [...] ## Good to know\\n\\n|  |  |\\n --- |\\n| Low season | April |\\n| High season | July |\\n| Cheapest flight | $239 |\\n\\n## FAQs - booking Tunisia flights\\n\\n### Which airline offers amazing lounge services to travelers from the United States to Tunisia?', 'score': 0.6353361}, {'title': 'Schedules & Flight Time from Frankfurt to Tunis - Trip.com', 'url': 'https://www.trip.com/hot/flight-time-from-frankfurt-to-tunis/', 'content': '|  |  |\\n --- |\\n| Flight Time | 3 hours |\\n| Earliest Flight | 09:25⇒10:50 |\\n| Latest Flight | 21:50⇒00:10 |\\n| Cheapest Flight Price | US$238 |\\n\\n## Find Cheap Flights for Suitable Flight Time from Frankfurt to Tunis\\n\\nTunisairTunisairTunisairTunisairTunisairTunisairTunisairTunisairTunisairTunisairTunisairTunisairrandom\\n\\nCrossed out prices are calculated based on the average price of the corresponding route on Trip.com.\\n\\n## Flight Time from Frankfurt to Tunis of Top Airlines [...] ## FAQ of Flight Time from Frankfurt to Tunis\\n\\n### What are the cheapest flights from Frankfurt to Tunis (FRA-TUN)?\\n\\n### Which airlines offer direct flights from Frankfurt to Tunis?\\n\\n### How long does it take to fly from Frankfurt (FRA) to Tunis (TUN) and what is the distance?\\n\\n### When is the best time to book flights from Frankfurt to Tunis?\\n\\n### How can I find the best deals on flights from Frankfurt to Tunis?\\n\\n### Which upcoming date is cheapest to fly from Frankfurt to Tunis on? [...] # Flight Time from Frankfurt to Tunis\\n\\nPlease select the exact number of passengers to view the best prices\\n\\n## How long is the flight time from Frankfurt to Tunis?\\n\\nTU745\\n\\nTunisair\\n\\n13:55\\n\\nFRA\\n\\n2.3h\\n\\n15:15\\n\\nTUN\\n\\nU21960\\n\\neasyJet\\n\\n09:10\\n\\nFRA\\n\\n1.2h\\n\\nNonstop\\n\\n10:20\\n\\nLIN\\n\\nBJ635\\n\\nNouvelair\\n\\n22:20\\n\\nMXP\\n\\n1.8h\\n\\nNonstop\\n\\n23:10\\n\\nTUN\\n\\n## Info of Flight Schedule & Flight Time from Frankfurt to Tunis', 'score': 0.5996498}]\u001b[0m\n",
      "Thought:\u001b[32;1m\u001b[1;3mThe search results indicate that the cheapest month to fly from Frankfurt to Tunisia is usually September. However, another source suggests that February is the cheapest time to fly. This discrepancy could be due to different data sets or methods of calculation used by the sources. As for the airlines, Nouvelair Tunisie is mentioned as offering the cheapest round-trip and one-way flights from Frankfurt to Tunisia. \n",
      "\n",
      "Main heading: Best month for cheap Tunisian flights\n",
      "- Cheapest month to fly from Frankfurt to Tunisia: September or February (sources vary)\n",
      "- Cheapest airline for flights from Frankfurt to Tunisia: Nouvelair Tunisie\n",
      "\n",
      "Subheadings per key model or development\n",
      "- Turkish Airlines, Air France, Royal Air Maroc, Lufthansa, ITA Airways, Delta, Transavia France, Tunis Air, Nouvelair, Aegean, Neos S.P.A., and Tunisair Express all offer flights to Tunisia\n",
      "- The cheapest round-trip flight from Frankfurt am Main to Tunis is currently €191 with Nouvelair Tunisie\n",
      "- The cheapest one-way flight from Frankfurt am Main to Tunis is currently €107 with Nouvelair Tunisie\n",
      "\n",
      "Bullet points for features\n",
      "- The cheapest month to fly from Frankfurt to Tunisia is usually September or February (sources vary)\n",
      "- Nouvelair Tunisie offers the cheapest round-trip and one-way flights from Frankfurt to Tunisia\n",
      "\n",
      "Source links if any\n",
      "- [Skyscanner](https://www.skyscanner.com/routes/fran/tun/frankfurt-to-tunis-carthage.html)\n",
      "- [Google Travel](https://www.google.com/travel/flights/flights-from-frankfurt-am-main-to-tunis.html?gl=DE&hl=en)\n",
      "\n",
      "Final Answer: The cheapest month to fly from Frankfurt to Tunisia is usually September or February, and the airline that offers the cheapest flights is Nouvelair Tunisie.\u001b[0m\n",
      "\n",
      "\u001b[1m> Finished chain.\u001b[0m\n"
     ]
    }
   ],
   "source": [
    "# Run it\n",
    "response_4 = agent.run(prompt_4)\n"
   ]
  },
  {
   "cell_type": "code",
   "execution_count": 14,
   "id": "95717987",
   "metadata": {},
   "outputs": [
    {
     "data": {
      "text/markdown": [
       "The cheapest month to fly from Frankfurt to Tunisia is usually September or February, and the airline that offers the cheapest flights is Nouvelair Tunisie."
      ],
      "text/plain": [
       "<IPython.core.display.Markdown object>"
      ]
     },
     "metadata": {},
     "output_type": "display_data"
    }
   ],
   "source": [
    "display(Markdown(response_4))"
   ]
  }
 ],
 "metadata": {
  "kernelspec": {
   "display_name": "llm-env",
   "language": "python",
   "name": "python3"
  },
  "language_info": {
   "codemirror_mode": {
    "name": "ipython",
    "version": 3
   },
   "file_extension": ".py",
   "mimetype": "text/x-python",
   "name": "python",
   "nbconvert_exporter": "python",
   "pygments_lexer": "ipython3",
   "version": "3.11.11"
  }
 },
 "nbformat": 4,
 "nbformat_minor": 5
}
